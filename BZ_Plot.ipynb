{
  "cells": [
    {
      "cell_type": "code",
      "execution_count": 1,
      "metadata": {
        "id": "72wOTnmMU8E1"
      },
      "outputs": [],
      "source": [
        "import numpy as np\n",
        "from scipy.spatial import Voronoi\n",
        "import plotly.graph_objs as go"
      ]
    },
    {
      "cell_type": "code",
      "execution_count": 7,
      "metadata": {
        "id": "_XD4b9QwVBLg"
      },
      "outputs": [],
      "source": [
        "cell = np.array([[0.0, 0.5, 0.5],   # Primitive cell basis vectors (FCC lattice)\n",
        "                 [0.5, 0.0, 0.5],\n",
        "                 [0.5, 0.5, 0.0]])\n",
        "\n",
        "icell = np.linalg.inv(cell).T\n",
        "b1, b2, b3 = np.linalg.norm(icell, axis=1)   # Compute reciprocal lattice vectors\n",
        "\n",
        "px, py, pz = np.tensordot(icell, np.mgrid[-1:2, -1:2, -1:2], axes=[0, 0])   # Generate points for Voronoi diagram\n",
        "points = np.c_[px.ravel(), py.ravel(), pz.ravel()]\n",
        "\n",
        "vor = Voronoi(points)   # Voronoi tesellation (Thiessen polygon maps)\n",
        "\n",
        "bz_facets = []\n",
        "bz_ridges = []\n",
        "bz_vertices = []\n",
        "\n",
        "for pid, rid in zip(vor.ridge_points, vor.ridge_vertices):\n",
        "    if 13 in pid:   # Center of the Voronoi cell\n",
        "        bz_ridges.append(vor.vertices[np.r_[rid, [rid[0]]]])\n",
        "        bz_facets.append(vor.vertices[rid])\n",
        "        bz_vertices += rid\n",
        "\n",
        "bz_vertices = list(set(bz_vertices))\n",
        "v = vor.vertices[bz_vertices]\n",
        "\n",
        "x, y, z = v[:, 0], v[:, 1], v[:, 2]   # Vertices of the surface plot\n",
        "\n",
        "fig = go.Figure(data=[go.Mesh3d(\n",
        "    x=x, y=y, z=z,\n",
        "    color='mediumaquamarine',\n",
        "    opacity=0.6,\n",
        "    alphahull=0,\n",
        "    flatshading=True\n",
        ")])\n",
        "\n",
        "for edge in bz_ridges:   # Edges\n",
        "    edge_x, edge_y, edge_z = edge[:, 0], edge[:, 1], edge[:, 2]\n",
        "    fig.add_trace(go.Scatter3d(\n",
        "        x=edge_x, y=edge_y, z=edge_z,\n",
        "        mode='lines',\n",
        "        line=dict(color='black', width=2),\n",
        "        showlegend=False\n",
        "    ))"
      ]
    },
    {
      "cell_type": "code",
      "execution_count": 8,
      "metadata": {
        "id": "rrgiBFXvVHOt"
      },
      "outputs": [],
      "source": [
        "high_symmetry_points = {   # Scaled units\n",
        "    \"Γ\": [0.0000000000, 0.0000000000, 0.0000000000],\n",
        "    \"K\": [0.3750000000, 0.3750000000, 0.7500000000],\n",
        "    \"L\": [0.5000000000, 0.5000000000, 0.5000000000],\n",
        "    \"U\": [0.6250000000, 0.2500000000, 0.6250000000],\n",
        "    \"W\": [0.5000000000, 0.2500000000, 0.7500000000],\n",
        "    \"X\": [0.5000000000, 0.0000000000, 0.5000000000]\n",
        "}\n",
        "\n",
        "# High-symmetry path\n",
        "high_symmetry_path = [\"K\", \"Γ\", \"L\", \"K\", \"W\", \"L\", \"U\", \"W\", \"U\", \"X\", \"W\", \"X\", \"Γ\"]\n",
        "path_coords = np.array([high_symmetry_points[p] for p in high_symmetry_path])"
      ]
    },
    {
      "cell_type": "code",
      "execution_count": 9,
      "metadata": {
        "id": "TOCjrKrHVKJl"
      },
      "outputs": [],
      "source": [
        "fig.add_trace(go.Scatter3d(\n",
        "    x=path_coords[:, 0],\n",
        "    y=path_coords[:, 1],\n",
        "    z=path_coords[:, 2],\n",
        "    mode='lines+markers',\n",
        "    line=dict(color='red', width=4),\n",
        "    marker=dict(size=6, color='red'),\n",
        "    name='High-Symmetry Path'\n",
        "))\n",
        "\n",
        "for label, coord in high_symmetry_points.items():\n",
        "    fig.add_trace(go.Scatter3d(\n",
        "        x=[coord[0]],\n",
        "        y=[coord[1]],\n",
        "        z=[coord[2]],\n",
        "        mode='markers+text',\n",
        "        text=[label],\n",
        "        textposition=\"top center\",\n",
        "        marker=dict(size=7, color='darkblue', symbol='circle'),\n",
        "        name=f'{label} point'\n",
        "    ))"
      ]
    },
    {
      "cell_type": "code",
      "execution_count": 10,
      "metadata": {
        "colab": {
          "base_uri": "https://localhost:8080/",
          "height": 917
        },
        "id": "Hdkz6eyhVNlq",
        "outputId": "9030e006-08ea-48fe-f76d-14cdfe6bc2a7"
      },
      "outputs": [
        {
          "data": {
            "application/vnd.plotly.v1+json": {
              "config": {
                "plotlyServerURL": "https://plot.ly"
              },
              "data": [
                {
                  "alphahull": 0,
                  "color": "mediumaquamarine",
                  "flatshading": true,
                  "opacity": 0.6,
                  "type": "mesh3d",
                  "x": [
                    -1,
                    -1,
                    0,
                    -0.5,
                    -0.5,
                    0,
                    0,
                    0.5,
                    1,
                    0,
                    0,
                    0.5,
                    1,
                    0,
                    -0.5,
                    -1,
                    -1,
                    -0.5,
                    0.5,
                    1,
                    0,
                    0,
                    1,
                    0.5
                  ],
                  "y": [
                    -0.5,
                    0,
                    -0.5,
                    0,
                    -1,
                    -1,
                    -1,
                    -1,
                    -0.5,
                    1,
                    0.5,
                    0,
                    0,
                    -0.5,
                    1,
                    0.5,
                    0,
                    0,
                    1,
                    0.5,
                    1,
                    0.5,
                    0,
                    0
                  ],
                  "z": [
                    0,
                    -0.5,
                    -1,
                    -1,
                    0,
                    0.5,
                    -0.5,
                    0,
                    0,
                    -0.5,
                    -1,
                    -1,
                    -0.5,
                    1,
                    0,
                    0,
                    0.5,
                    1,
                    0,
                    0,
                    0.5,
                    1,
                    0.5,
                    1
                  ]
                },
                {
                  "line": {
                    "color": "black",
                    "width": 2
                  },
                  "mode": "lines",
                  "showlegend": false,
                  "type": "scatter3d",
                  "x": [
                    -0.5,
                    0,
                    0,
                    -0.5,
                    -1,
                    -1,
                    -0.5
                  ],
                  "y": [
                    0,
                    -0.5,
                    -1,
                    -1,
                    -0.5,
                    0,
                    0
                  ],
                  "z": [
                    1,
                    1,
                    0.5,
                    0,
                    0,
                    0.5,
                    1
                  ]
                },
                {
                  "line": {
                    "color": "black",
                    "width": 2
                  },
                  "mode": "lines",
                  "showlegend": false,
                  "type": "scatter3d",
                  "x": [
                    -1,
                    -0.5,
                    0,
                    0,
                    -0.5,
                    -1,
                    -1
                  ],
                  "y": [
                    0,
                    0,
                    0.5,
                    1,
                    1,
                    0.5,
                    0
                  ],
                  "z": [
                    -0.5,
                    -1,
                    -1,
                    -0.5,
                    0,
                    0,
                    -0.5
                  ]
                },
                {
                  "line": {
                    "color": "black",
                    "width": 2
                  },
                  "mode": "lines",
                  "showlegend": false,
                  "type": "scatter3d",
                  "x": [
                    -1,
                    -1,
                    -1,
                    -1,
                    -1
                  ],
                  "y": [
                    0,
                    -0.5,
                    0,
                    0.5,
                    0
                  ],
                  "z": [
                    0.5,
                    0,
                    -0.5,
                    0,
                    0.5
                  ]
                },
                {
                  "line": {
                    "color": "black",
                    "width": 2
                  },
                  "mode": "lines",
                  "showlegend": false,
                  "type": "scatter3d",
                  "x": [
                    0.5,
                    0,
                    -0.5,
                    0,
                    0.5
                  ],
                  "y": [
                    0,
                    -0.5,
                    0,
                    0.5,
                    0
                  ],
                  "z": [
                    -1,
                    -1,
                    -1,
                    -1,
                    -1
                  ]
                },
                {
                  "line": {
                    "color": "black",
                    "width": 2
                  },
                  "mode": "lines",
                  "showlegend": false,
                  "type": "scatter3d",
                  "x": [
                    1,
                    1,
                    0.5,
                    0,
                    0,
                    0.5,
                    1
                  ],
                  "y": [
                    0,
                    -0.5,
                    -1,
                    -1,
                    -0.5,
                    0,
                    0
                  ],
                  "z": [
                    -0.5,
                    0,
                    0,
                    -0.5,
                    -1,
                    -1,
                    -0.5
                  ]
                },
                {
                  "line": {
                    "color": "black",
                    "width": 2
                  },
                  "mode": "lines",
                  "showlegend": false,
                  "type": "scatter3d",
                  "x": [
                    0.5,
                    0,
                    -0.5,
                    0,
                    0.5
                  ],
                  "y": [
                    -1,
                    -1,
                    -1,
                    -1,
                    -1
                  ],
                  "z": [
                    0,
                    0.5,
                    0,
                    -0.5,
                    0
                  ]
                },
                {
                  "line": {
                    "color": "black",
                    "width": 2
                  },
                  "mode": "lines",
                  "showlegend": false,
                  "type": "scatter3d",
                  "x": [
                    -1,
                    -0.5,
                    0,
                    0,
                    -0.5,
                    -1,
                    -1
                  ],
                  "y": [
                    -0.5,
                    -1,
                    -1,
                    -0.5,
                    0,
                    0,
                    -0.5
                  ],
                  "z": [
                    0,
                    0,
                    -0.5,
                    -1,
                    -1,
                    -0.5,
                    0
                  ]
                },
                {
                  "line": {
                    "color": "black",
                    "width": 2
                  },
                  "mode": "lines",
                  "showlegend": false,
                  "type": "scatter3d",
                  "x": [
                    0.5,
                    0,
                    0,
                    0.5,
                    1,
                    1,
                    0.5
                  ],
                  "y": [
                    1,
                    1,
                    0.5,
                    0,
                    0,
                    0.5,
                    1
                  ],
                  "z": [
                    0,
                    0.5,
                    1,
                    1,
                    0.5,
                    0,
                    0
                  ]
                },
                {
                  "line": {
                    "color": "black",
                    "width": 2
                  },
                  "mode": "lines",
                  "showlegend": false,
                  "type": "scatter3d",
                  "x": [
                    1,
                    1,
                    1,
                    1,
                    1
                  ],
                  "y": [
                    0,
                    -0.5,
                    0,
                    0.5,
                    0
                  ],
                  "z": [
                    -0.5,
                    0,
                    0.5,
                    0,
                    -0.5
                  ]
                },
                {
                  "line": {
                    "color": "black",
                    "width": 2
                  },
                  "mode": "lines",
                  "showlegend": false,
                  "type": "scatter3d",
                  "x": [
                    0,
                    -0.5,
                    0,
                    0.5,
                    0
                  ],
                  "y": [
                    1,
                    1,
                    1,
                    1,
                    1
                  ],
                  "z": [
                    -0.5,
                    0,
                    0.5,
                    0,
                    -0.5
                  ]
                },
                {
                  "line": {
                    "color": "black",
                    "width": 2
                  },
                  "mode": "lines",
                  "showlegend": false,
                  "type": "scatter3d",
                  "x": [
                    -0.5,
                    0,
                    0.5,
                    0,
                    -0.5
                  ],
                  "y": [
                    0,
                    -0.5,
                    0,
                    0.5,
                    0
                  ],
                  "z": [
                    1,
                    1,
                    1,
                    1,
                    1
                  ]
                },
                {
                  "line": {
                    "color": "black",
                    "width": 2
                  },
                  "mode": "lines",
                  "showlegend": false,
                  "type": "scatter3d",
                  "x": [
                    1,
                    0.5,
                    0,
                    0,
                    0.5,
                    1,
                    1
                  ],
                  "y": [
                    0,
                    0,
                    0.5,
                    1,
                    1,
                    0.5,
                    0
                  ],
                  "z": [
                    -0.5,
                    -1,
                    -1,
                    -0.5,
                    0,
                    0,
                    -0.5
                  ]
                },
                {
                  "line": {
                    "color": "black",
                    "width": 2
                  },
                  "mode": "lines",
                  "showlegend": false,
                  "type": "scatter3d",
                  "x": [
                    -0.5,
                    -1,
                    -1,
                    -0.5,
                    0,
                    0,
                    -0.5
                  ],
                  "y": [
                    1,
                    0.5,
                    0,
                    0,
                    0.5,
                    1,
                    1
                  ],
                  "z": [
                    0,
                    0,
                    0.5,
                    1,
                    1,
                    0.5,
                    0
                  ]
                },
                {
                  "line": {
                    "color": "black",
                    "width": 2
                  },
                  "mode": "lines",
                  "showlegend": false,
                  "type": "scatter3d",
                  "x": [
                    1,
                    0.5,
                    0,
                    0,
                    0.5,
                    1,
                    1
                  ],
                  "y": [
                    -0.5,
                    -1,
                    -1,
                    -0.5,
                    0,
                    0,
                    -0.5
                  ],
                  "z": [
                    0,
                    0,
                    0.5,
                    1,
                    1,
                    0.5,
                    0
                  ]
                },
                {
                  "line": {
                    "color": "red",
                    "width": 4
                  },
                  "marker": {
                    "color": "red",
                    "size": 6
                  },
                  "mode": "lines+markers",
                  "name": "High-Symmetry Path",
                  "type": "scatter3d",
                  "x": [
                    0.375,
                    0,
                    0.5,
                    0.375,
                    0.5,
                    0.5,
                    0.625,
                    0.5,
                    0.625,
                    0.5,
                    0.5,
                    0.5,
                    0
                  ],
                  "y": [
                    0.375,
                    0,
                    0.5,
                    0.375,
                    0.25,
                    0.5,
                    0.25,
                    0.25,
                    0.25,
                    0,
                    0.25,
                    0,
                    0
                  ],
                  "z": [
                    0.75,
                    0,
                    0.5,
                    0.75,
                    0.75,
                    0.5,
                    0.625,
                    0.75,
                    0.625,
                    0.5,
                    0.75,
                    0.5,
                    0
                  ]
                },
                {
                  "marker": {
                    "color": "darkblue",
                    "size": 7,
                    "symbol": "circle"
                  },
                  "mode": "markers+text",
                  "name": "Γ point",
                  "text": [
                    "Γ"
                  ],
                  "textposition": "top center",
                  "type": "scatter3d",
                  "x": [
                    0
                  ],
                  "y": [
                    0
                  ],
                  "z": [
                    0
                  ]
                },
                {
                  "marker": {
                    "color": "darkblue",
                    "size": 7,
                    "symbol": "circle"
                  },
                  "mode": "markers+text",
                  "name": "K point",
                  "text": [
                    "K"
                  ],
                  "textposition": "top center",
                  "type": "scatter3d",
                  "x": [
                    0.375
                  ],
                  "y": [
                    0.375
                  ],
                  "z": [
                    0.75
                  ]
                },
                {
                  "marker": {
                    "color": "darkblue",
                    "size": 7,
                    "symbol": "circle"
                  },
                  "mode": "markers+text",
                  "name": "L point",
                  "text": [
                    "L"
                  ],
                  "textposition": "top center",
                  "type": "scatter3d",
                  "x": [
                    0.5
                  ],
                  "y": [
                    0.5
                  ],
                  "z": [
                    0.5
                  ]
                },
                {
                  "marker": {
                    "color": "darkblue",
                    "size": 7,
                    "symbol": "circle"
                  },
                  "mode": "markers+text",
                  "name": "U point",
                  "text": [
                    "U"
                  ],
                  "textposition": "top center",
                  "type": "scatter3d",
                  "x": [
                    0.625
                  ],
                  "y": [
                    0.25
                  ],
                  "z": [
                    0.625
                  ]
                },
                {
                  "marker": {
                    "color": "darkblue",
                    "size": 7,
                    "symbol": "circle"
                  },
                  "mode": "markers+text",
                  "name": "W point",
                  "text": [
                    "W"
                  ],
                  "textposition": "top center",
                  "type": "scatter3d",
                  "x": [
                    0.5
                  ],
                  "y": [
                    0.25
                  ],
                  "z": [
                    0.75
                  ]
                },
                {
                  "marker": {
                    "color": "darkblue",
                    "size": 7,
                    "symbol": "circle"
                  },
                  "mode": "markers+text",
                  "name": "X point",
                  "text": [
                    "X"
                  ],
                  "textposition": "top center",
                  "type": "scatter3d",
                  "x": [
                    0.5
                  ],
                  "y": [
                    0
                  ],
                  "z": [
                    0.5
                  ]
                },
                {
                  "line": {
                    "color": "black",
                    "width": 5
                  },
                  "mode": "lines+text",
                  "name": "kx",
                  "text": [
                    "",
                    "b1"
                  ],
                  "textposition": "top center",
                  "type": "scatter3d",
                  "x": [
                    0,
                    1.5
                  ],
                  "y": [
                    0,
                    0
                  ],
                  "z": [
                    0,
                    0
                  ]
                },
                {
                  "line": {
                    "color": "black",
                    "width": 5
                  },
                  "mode": "lines+text",
                  "name": "ky",
                  "text": [
                    "",
                    "b2"
                  ],
                  "textposition": "top center",
                  "type": "scatter3d",
                  "x": [
                    0,
                    0
                  ],
                  "y": [
                    0,
                    1.5
                  ],
                  "z": [
                    0,
                    0
                  ]
                },
                {
                  "line": {
                    "color": "black",
                    "width": 5
                  },
                  "mode": "lines+text",
                  "name": "kz",
                  "text": [
                    "",
                    "b3"
                  ],
                  "textposition": "top center",
                  "type": "scatter3d",
                  "x": [
                    0,
                    0
                  ],
                  "y": [
                    0,
                    0
                  ],
                  "z": [
                    0,
                    1.5
                  ]
                },
                {
                  "colorscale": [
                    [
                      0,
                      "black"
                    ],
                    [
                      1,
                      "black"
                    ]
                  ],
                  "showscale": false,
                  "sizemode": "absolute",
                  "sizeref": 0.2,
                  "type": "cone",
                  "u": [
                    0.2
                  ],
                  "v": [
                    0
                  ],
                  "w": [
                    0
                  ],
                  "x": [
                    1.5
                  ],
                  "y": [
                    0
                  ],
                  "z": [
                    0
                  ]
                },
                {
                  "colorscale": [
                    [
                      0,
                      "black"
                    ],
                    [
                      1,
                      "black"
                    ]
                  ],
                  "showscale": false,
                  "sizemode": "absolute",
                  "sizeref": 0.2,
                  "type": "cone",
                  "u": [
                    0
                  ],
                  "v": [
                    0.2
                  ],
                  "w": [
                    0
                  ],
                  "x": [
                    0
                  ],
                  "y": [
                    1.5
                  ],
                  "z": [
                    0
                  ]
                },
                {
                  "colorscale": [
                    [
                      0,
                      "black"
                    ],
                    [
                      1,
                      "black"
                    ]
                  ],
                  "showscale": false,
                  "sizemode": "absolute",
                  "sizeref": 0.2,
                  "type": "cone",
                  "u": [
                    0
                  ],
                  "v": [
                    0
                  ],
                  "w": [
                    0.2
                  ],
                  "x": [
                    0
                  ],
                  "y": [
                    0
                  ],
                  "z": [
                    1.5
                  ]
                }
              ],
              "layout": {
                "height": 900,
                "margin": {
                  "b": 0,
                  "l": 0,
                  "r": 0,
                  "t": 50
                },
                "scene": {
                  "aspectratio": {
                    "x": 1,
                    "y": 1,
                    "z": 1
                  },
                  "camera": {
                    "eye": {
                      "x": 1.25,
                      "y": 1.25,
                      "z": 1.25
                    }
                  },
                  "xaxis": {
                    "backgroundcolor": "white",
                    "showgrid": false,
                    "showline": false,
                    "showticklabels": false,
                    "title": {
                      "font": {
                        "size": 12
                      },
                      "text": "x"
                    },
                    "zeroline": false
                  },
                  "yaxis": {
                    "backgroundcolor": "white",
                    "showgrid": false,
                    "showline": false,
                    "showticklabels": false,
                    "title": {
                      "font": {
                        "size": 12
                      },
                      "text": "y"
                    },
                    "zeroline": false
                  },
                  "zaxis": {
                    "backgroundcolor": "white",
                    "showgrid": false,
                    "showline": false,
                    "showticklabels": false,
                    "title": {
                      "font": {
                        "size": 12
                      },
                      "text": "z"
                    },
                    "zeroline": false
                  }
                },
                "showlegend": false,
                "template": {
                  "data": {
                    "bar": [
                      {
                        "error_x": {
                          "color": "#2a3f5f"
                        },
                        "error_y": {
                          "color": "#2a3f5f"
                        },
                        "marker": {
                          "line": {
                            "color": "#E5ECF6",
                            "width": 0.5
                          },
                          "pattern": {
                            "fillmode": "overlay",
                            "size": 10,
                            "solidity": 0.2
                          }
                        },
                        "type": "bar"
                      }
                    ],
                    "barpolar": [
                      {
                        "marker": {
                          "line": {
                            "color": "#E5ECF6",
                            "width": 0.5
                          },
                          "pattern": {
                            "fillmode": "overlay",
                            "size": 10,
                            "solidity": 0.2
                          }
                        },
                        "type": "barpolar"
                      }
                    ],
                    "carpet": [
                      {
                        "aaxis": {
                          "endlinecolor": "#2a3f5f",
                          "gridcolor": "white",
                          "linecolor": "white",
                          "minorgridcolor": "white",
                          "startlinecolor": "#2a3f5f"
                        },
                        "baxis": {
                          "endlinecolor": "#2a3f5f",
                          "gridcolor": "white",
                          "linecolor": "white",
                          "minorgridcolor": "white",
                          "startlinecolor": "#2a3f5f"
                        },
                        "type": "carpet"
                      }
                    ],
                    "choropleth": [
                      {
                        "colorbar": {
                          "outlinewidth": 0,
                          "ticks": ""
                        },
                        "type": "choropleth"
                      }
                    ],
                    "contour": [
                      {
                        "colorbar": {
                          "outlinewidth": 0,
                          "ticks": ""
                        },
                        "colorscale": [
                          [
                            0,
                            "#0d0887"
                          ],
                          [
                            0.1111111111111111,
                            "#46039f"
                          ],
                          [
                            0.2222222222222222,
                            "#7201a8"
                          ],
                          [
                            0.3333333333333333,
                            "#9c179e"
                          ],
                          [
                            0.4444444444444444,
                            "#bd3786"
                          ],
                          [
                            0.5555555555555556,
                            "#d8576b"
                          ],
                          [
                            0.6666666666666666,
                            "#ed7953"
                          ],
                          [
                            0.7777777777777778,
                            "#fb9f3a"
                          ],
                          [
                            0.8888888888888888,
                            "#fdca26"
                          ],
                          [
                            1,
                            "#f0f921"
                          ]
                        ],
                        "type": "contour"
                      }
                    ],
                    "contourcarpet": [
                      {
                        "colorbar": {
                          "outlinewidth": 0,
                          "ticks": ""
                        },
                        "type": "contourcarpet"
                      }
                    ],
                    "heatmap": [
                      {
                        "colorbar": {
                          "outlinewidth": 0,
                          "ticks": ""
                        },
                        "colorscale": [
                          [
                            0,
                            "#0d0887"
                          ],
                          [
                            0.1111111111111111,
                            "#46039f"
                          ],
                          [
                            0.2222222222222222,
                            "#7201a8"
                          ],
                          [
                            0.3333333333333333,
                            "#9c179e"
                          ],
                          [
                            0.4444444444444444,
                            "#bd3786"
                          ],
                          [
                            0.5555555555555556,
                            "#d8576b"
                          ],
                          [
                            0.6666666666666666,
                            "#ed7953"
                          ],
                          [
                            0.7777777777777778,
                            "#fb9f3a"
                          ],
                          [
                            0.8888888888888888,
                            "#fdca26"
                          ],
                          [
                            1,
                            "#f0f921"
                          ]
                        ],
                        "type": "heatmap"
                      }
                    ],
                    "heatmapgl": [
                      {
                        "colorbar": {
                          "outlinewidth": 0,
                          "ticks": ""
                        },
                        "colorscale": [
                          [
                            0,
                            "#0d0887"
                          ],
                          [
                            0.1111111111111111,
                            "#46039f"
                          ],
                          [
                            0.2222222222222222,
                            "#7201a8"
                          ],
                          [
                            0.3333333333333333,
                            "#9c179e"
                          ],
                          [
                            0.4444444444444444,
                            "#bd3786"
                          ],
                          [
                            0.5555555555555556,
                            "#d8576b"
                          ],
                          [
                            0.6666666666666666,
                            "#ed7953"
                          ],
                          [
                            0.7777777777777778,
                            "#fb9f3a"
                          ],
                          [
                            0.8888888888888888,
                            "#fdca26"
                          ],
                          [
                            1,
                            "#f0f921"
                          ]
                        ],
                        "type": "heatmapgl"
                      }
                    ],
                    "histogram": [
                      {
                        "marker": {
                          "pattern": {
                            "fillmode": "overlay",
                            "size": 10,
                            "solidity": 0.2
                          }
                        },
                        "type": "histogram"
                      }
                    ],
                    "histogram2d": [
                      {
                        "colorbar": {
                          "outlinewidth": 0,
                          "ticks": ""
                        },
                        "colorscale": [
                          [
                            0,
                            "#0d0887"
                          ],
                          [
                            0.1111111111111111,
                            "#46039f"
                          ],
                          [
                            0.2222222222222222,
                            "#7201a8"
                          ],
                          [
                            0.3333333333333333,
                            "#9c179e"
                          ],
                          [
                            0.4444444444444444,
                            "#bd3786"
                          ],
                          [
                            0.5555555555555556,
                            "#d8576b"
                          ],
                          [
                            0.6666666666666666,
                            "#ed7953"
                          ],
                          [
                            0.7777777777777778,
                            "#fb9f3a"
                          ],
                          [
                            0.8888888888888888,
                            "#fdca26"
                          ],
                          [
                            1,
                            "#f0f921"
                          ]
                        ],
                        "type": "histogram2d"
                      }
                    ],
                    "histogram2dcontour": [
                      {
                        "colorbar": {
                          "outlinewidth": 0,
                          "ticks": ""
                        },
                        "colorscale": [
                          [
                            0,
                            "#0d0887"
                          ],
                          [
                            0.1111111111111111,
                            "#46039f"
                          ],
                          [
                            0.2222222222222222,
                            "#7201a8"
                          ],
                          [
                            0.3333333333333333,
                            "#9c179e"
                          ],
                          [
                            0.4444444444444444,
                            "#bd3786"
                          ],
                          [
                            0.5555555555555556,
                            "#d8576b"
                          ],
                          [
                            0.6666666666666666,
                            "#ed7953"
                          ],
                          [
                            0.7777777777777778,
                            "#fb9f3a"
                          ],
                          [
                            0.8888888888888888,
                            "#fdca26"
                          ],
                          [
                            1,
                            "#f0f921"
                          ]
                        ],
                        "type": "histogram2dcontour"
                      }
                    ],
                    "mesh3d": [
                      {
                        "colorbar": {
                          "outlinewidth": 0,
                          "ticks": ""
                        },
                        "type": "mesh3d"
                      }
                    ],
                    "parcoords": [
                      {
                        "line": {
                          "colorbar": {
                            "outlinewidth": 0,
                            "ticks": ""
                          }
                        },
                        "type": "parcoords"
                      }
                    ],
                    "pie": [
                      {
                        "automargin": true,
                        "type": "pie"
                      }
                    ],
                    "scatter": [
                      {
                        "fillpattern": {
                          "fillmode": "overlay",
                          "size": 10,
                          "solidity": 0.2
                        },
                        "type": "scatter"
                      }
                    ],
                    "scatter3d": [
                      {
                        "line": {
                          "colorbar": {
                            "outlinewidth": 0,
                            "ticks": ""
                          }
                        },
                        "marker": {
                          "colorbar": {
                            "outlinewidth": 0,
                            "ticks": ""
                          }
                        },
                        "type": "scatter3d"
                      }
                    ],
                    "scattercarpet": [
                      {
                        "marker": {
                          "colorbar": {
                            "outlinewidth": 0,
                            "ticks": ""
                          }
                        },
                        "type": "scattercarpet"
                      }
                    ],
                    "scattergeo": [
                      {
                        "marker": {
                          "colorbar": {
                            "outlinewidth": 0,
                            "ticks": ""
                          }
                        },
                        "type": "scattergeo"
                      }
                    ],
                    "scattergl": [
                      {
                        "marker": {
                          "colorbar": {
                            "outlinewidth": 0,
                            "ticks": ""
                          }
                        },
                        "type": "scattergl"
                      }
                    ],
                    "scattermapbox": [
                      {
                        "marker": {
                          "colorbar": {
                            "outlinewidth": 0,
                            "ticks": ""
                          }
                        },
                        "type": "scattermapbox"
                      }
                    ],
                    "scatterpolar": [
                      {
                        "marker": {
                          "colorbar": {
                            "outlinewidth": 0,
                            "ticks": ""
                          }
                        },
                        "type": "scatterpolar"
                      }
                    ],
                    "scatterpolargl": [
                      {
                        "marker": {
                          "colorbar": {
                            "outlinewidth": 0,
                            "ticks": ""
                          }
                        },
                        "type": "scatterpolargl"
                      }
                    ],
                    "scatterternary": [
                      {
                        "marker": {
                          "colorbar": {
                            "outlinewidth": 0,
                            "ticks": ""
                          }
                        },
                        "type": "scatterternary"
                      }
                    ],
                    "surface": [
                      {
                        "colorbar": {
                          "outlinewidth": 0,
                          "ticks": ""
                        },
                        "colorscale": [
                          [
                            0,
                            "#0d0887"
                          ],
                          [
                            0.1111111111111111,
                            "#46039f"
                          ],
                          [
                            0.2222222222222222,
                            "#7201a8"
                          ],
                          [
                            0.3333333333333333,
                            "#9c179e"
                          ],
                          [
                            0.4444444444444444,
                            "#bd3786"
                          ],
                          [
                            0.5555555555555556,
                            "#d8576b"
                          ],
                          [
                            0.6666666666666666,
                            "#ed7953"
                          ],
                          [
                            0.7777777777777778,
                            "#fb9f3a"
                          ],
                          [
                            0.8888888888888888,
                            "#fdca26"
                          ],
                          [
                            1,
                            "#f0f921"
                          ]
                        ],
                        "type": "surface"
                      }
                    ],
                    "table": [
                      {
                        "cells": {
                          "fill": {
                            "color": "#EBF0F8"
                          },
                          "line": {
                            "color": "white"
                          }
                        },
                        "header": {
                          "fill": {
                            "color": "#C8D4E3"
                          },
                          "line": {
                            "color": "white"
                          }
                        },
                        "type": "table"
                      }
                    ]
                  },
                  "layout": {
                    "annotationdefaults": {
                      "arrowcolor": "#2a3f5f",
                      "arrowhead": 0,
                      "arrowwidth": 1
                    },
                    "autotypenumbers": "strict",
                    "coloraxis": {
                      "colorbar": {
                        "outlinewidth": 0,
                        "ticks": ""
                      }
                    },
                    "colorscale": {
                      "diverging": [
                        [
                          0,
                          "#8e0152"
                        ],
                        [
                          0.1,
                          "#c51b7d"
                        ],
                        [
                          0.2,
                          "#de77ae"
                        ],
                        [
                          0.3,
                          "#f1b6da"
                        ],
                        [
                          0.4,
                          "#fde0ef"
                        ],
                        [
                          0.5,
                          "#f7f7f7"
                        ],
                        [
                          0.6,
                          "#e6f5d0"
                        ],
                        [
                          0.7,
                          "#b8e186"
                        ],
                        [
                          0.8,
                          "#7fbc41"
                        ],
                        [
                          0.9,
                          "#4d9221"
                        ],
                        [
                          1,
                          "#276419"
                        ]
                      ],
                      "sequential": [
                        [
                          0,
                          "#0d0887"
                        ],
                        [
                          0.1111111111111111,
                          "#46039f"
                        ],
                        [
                          0.2222222222222222,
                          "#7201a8"
                        ],
                        [
                          0.3333333333333333,
                          "#9c179e"
                        ],
                        [
                          0.4444444444444444,
                          "#bd3786"
                        ],
                        [
                          0.5555555555555556,
                          "#d8576b"
                        ],
                        [
                          0.6666666666666666,
                          "#ed7953"
                        ],
                        [
                          0.7777777777777778,
                          "#fb9f3a"
                        ],
                        [
                          0.8888888888888888,
                          "#fdca26"
                        ],
                        [
                          1,
                          "#f0f921"
                        ]
                      ],
                      "sequentialminus": [
                        [
                          0,
                          "#0d0887"
                        ],
                        [
                          0.1111111111111111,
                          "#46039f"
                        ],
                        [
                          0.2222222222222222,
                          "#7201a8"
                        ],
                        [
                          0.3333333333333333,
                          "#9c179e"
                        ],
                        [
                          0.4444444444444444,
                          "#bd3786"
                        ],
                        [
                          0.5555555555555556,
                          "#d8576b"
                        ],
                        [
                          0.6666666666666666,
                          "#ed7953"
                        ],
                        [
                          0.7777777777777778,
                          "#fb9f3a"
                        ],
                        [
                          0.8888888888888888,
                          "#fdca26"
                        ],
                        [
                          1,
                          "#f0f921"
                        ]
                      ]
                    },
                    "colorway": [
                      "#636efa",
                      "#EF553B",
                      "#00cc96",
                      "#ab63fa",
                      "#FFA15A",
                      "#19d3f3",
                      "#FF6692",
                      "#B6E880",
                      "#FF97FF",
                      "#FECB52"
                    ],
                    "font": {
                      "color": "#2a3f5f"
                    },
                    "geo": {
                      "bgcolor": "white",
                      "lakecolor": "white",
                      "landcolor": "#E5ECF6",
                      "showlakes": true,
                      "showland": true,
                      "subunitcolor": "white"
                    },
                    "hoverlabel": {
                      "align": "left"
                    },
                    "hovermode": "closest",
                    "mapbox": {
                      "style": "light"
                    },
                    "paper_bgcolor": "white",
                    "plot_bgcolor": "#E5ECF6",
                    "polar": {
                      "angularaxis": {
                        "gridcolor": "white",
                        "linecolor": "white",
                        "ticks": ""
                      },
                      "bgcolor": "#E5ECF6",
                      "radialaxis": {
                        "gridcolor": "white",
                        "linecolor": "white",
                        "ticks": ""
                      }
                    },
                    "scene": {
                      "xaxis": {
                        "backgroundcolor": "#E5ECF6",
                        "gridcolor": "white",
                        "gridwidth": 2,
                        "linecolor": "white",
                        "showbackground": true,
                        "ticks": "",
                        "zerolinecolor": "white"
                      },
                      "yaxis": {
                        "backgroundcolor": "#E5ECF6",
                        "gridcolor": "white",
                        "gridwidth": 2,
                        "linecolor": "white",
                        "showbackground": true,
                        "ticks": "",
                        "zerolinecolor": "white"
                      },
                      "zaxis": {
                        "backgroundcolor": "#E5ECF6",
                        "gridcolor": "white",
                        "gridwidth": 2,
                        "linecolor": "white",
                        "showbackground": true,
                        "ticks": "",
                        "zerolinecolor": "white"
                      }
                    },
                    "shapedefaults": {
                      "line": {
                        "color": "#2a3f5f"
                      }
                    },
                    "ternary": {
                      "aaxis": {
                        "gridcolor": "white",
                        "linecolor": "white",
                        "ticks": ""
                      },
                      "baxis": {
                        "gridcolor": "white",
                        "linecolor": "white",
                        "ticks": ""
                      },
                      "bgcolor": "#E5ECF6",
                      "caxis": {
                        "gridcolor": "white",
                        "linecolor": "white",
                        "ticks": ""
                      }
                    },
                    "title": {
                      "x": 0.05
                    },
                    "xaxis": {
                      "automargin": true,
                      "gridcolor": "white",
                      "linecolor": "white",
                      "ticks": "",
                      "title": {
                        "standoff": 15
                      },
                      "zerolinecolor": "white",
                      "zerolinewidth": 2
                    },
                    "yaxis": {
                      "automargin": true,
                      "gridcolor": "white",
                      "linecolor": "white",
                      "ticks": "",
                      "title": {
                        "standoff": 15
                      },
                      "zerolinecolor": "white",
                      "zerolinewidth": 2
                    }
                  }
                },
                "title": {
                  "font": {
                    "color": "darkslategray",
                    "size": 20
                  },
                  "text": "<b>First BZ of MgO</b>",
                  "x": 0.5
                },
                "width": 1000
              }
            }
          },
          "metadata": {},
          "output_type": "display_data"
        }
      ],
      "source": [
        "arrow_scale = 1.5\n",
        "arrowhead_size = 0.2\n",
        "\n",
        "fig.add_trace(go.Scatter3d(\n",
        "    x=[0, arrow_scale], y=[0, 0], z=[0, 0],\n",
        "    mode='lines+text',\n",
        "    line=dict(color='black', width=5),\n",
        "    text=[\"\", \"b1\"],\n",
        "    textposition=\"top center\",\n",
        "    name='kx'\n",
        "))\n",
        "fig.add_trace(go.Scatter3d(\n",
        "    x=[0, 0], y=[0, arrow_scale], z=[0, 0],\n",
        "    mode='lines+text',\n",
        "    line=dict(color='black', width=5),\n",
        "    text=[\"\", \"b2\"],\n",
        "    textposition=\"top center\",\n",
        "    name='ky'\n",
        "))\n",
        "fig.add_trace(go.Scatter3d(\n",
        "    x=[0, 0], y=[0, 0], z=[0, arrow_scale],\n",
        "    mode='lines+text',\n",
        "    line=dict(color='black', width=5),\n",
        "    text=[\"\", \"b3\"],\n",
        "    textposition=\"top center\",\n",
        "    name='kz'\n",
        "))\n",
        "\n",
        "kx_end = [arrow_scale, 0, 0]\n",
        "ky_end = [0, arrow_scale, 0]\n",
        "kz_end = [0, 0, arrow_scale]\n",
        "\n",
        "fig.add_trace(go.Cone(\n",
        "    x=[kx_end[0]], y=[kx_end[1]], z=[kx_end[2]],\n",
        "    u=[0.2], v=[0], w=[0],\n",
        "    colorscale=[[0, 'black'], [1, 'black']],\n",
        "    showscale=False,\n",
        "    sizemode='absolute',\n",
        "    sizeref=arrowhead_size\n",
        "))\n",
        "\n",
        "fig.add_trace(go.Cone(\n",
        "    x=[ky_end[0]], y=[ky_end[1]], z=[ky_end[2]],\n",
        "    u=[0], v=[0.2], w=[0],\n",
        "    colorscale=[[0, 'black'], [1, 'black']],\n",
        "    showscale=False,\n",
        "    sizemode='absolute',\n",
        "    sizeref=arrowhead_size\n",
        "))\n",
        "\n",
        "fig.add_trace(go.Cone(\n",
        "    x=[kz_end[0]], y=[kz_end[1]], z=[kz_end[2]],\n",
        "    u=[0], v=[0], w=[0.2],\n",
        "    colorscale=[[0, 'black'], [1, 'black']],\n",
        "    showscale=False,\n",
        "    sizemode='absolute',\n",
        "    sizeref=arrowhead_size\n",
        "))\n",
        "\n",
        "fig.update_layout(\n",
        "    title_text='<b>First BZ of MgO</b>',\n",
        "    title_x=0.5,\n",
        "    titlefont=dict(size=20, color='darkslategray'),\n",
        "    width=1000,\n",
        "    height=900,\n",
        "    scene=dict(\n",
        "        xaxis=dict(\n",
        "            title='x',\n",
        "            titlefont=dict(size=12),\n",
        "            showgrid=False,\n",
        "            zeroline=False,\n",
        "            showline=False,\n",
        "            backgroundcolor='white',\n",
        "            showticklabels=False\n",
        "        ),\n",
        "        yaxis=dict(\n",
        "            title='y',\n",
        "            titlefont=dict(size=12),\n",
        "            showgrid=False,\n",
        "            zeroline=False,\n",
        "            showline=False,\n",
        "            backgroundcolor='white',\n",
        "            showticklabels=False\n",
        "        ),\n",
        "        zaxis=dict(\n",
        "            title='z',\n",
        "            titlefont=dict(size=12),\n",
        "            showgrid=False,\n",
        "            zeroline=False,\n",
        "            showline=False,\n",
        "            backgroundcolor='white',\n",
        "            showticklabels=False\n",
        "        ),\n",
        "        aspectratio=dict(x=1, y=1, z=1),\n",
        "        camera=dict(\n",
        "            eye=dict(x=1.25, y=1.25, z=1.25)\n",
        "        )\n",
        "    ),\n",
        "    margin=dict(l=0, r=0, b=0, t=50),\n",
        "    showlegend=False\n",
        ")\n",
        "\n",
        "fig.show()"
      ]
    }
  ],
  "metadata": {
    "colab": {
      "provenance": []
    },
    "kernelspec": {
      "display_name": "Python 3",
      "name": "python3"
    },
    "language_info": {
      "codemirror_mode": {
        "name": "ipython",
        "version": 3
      },
      "file_extension": ".py",
      "mimetype": "text/x-python",
      "name": "python",
      "nbconvert_exporter": "python",
      "pygments_lexer": "ipython3",
      "version": "3.11.4"
    }
  },
  "nbformat": 4,
  "nbformat_minor": 0
}
